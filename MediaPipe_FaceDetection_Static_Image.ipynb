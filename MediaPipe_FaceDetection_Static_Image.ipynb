{
 "cells": [
  {
   "cell_type": "markdown",
   "id": "877495de",
   "metadata": {},
   "source": [
    "# Mediapipe Face Detection On  Static Given_Image"
   ]
  },
  {
   "cell_type": "code",
   "execution_count": null,
   "id": "f4fc20ae",
   "metadata": {},
   "outputs": [],
   "source": [
    "!pip install mediapipe\n",
    "!pip install opencv-python"
   ]
  },
  {
   "cell_type": "markdown",
   "id": "386e4a5a",
   "metadata": {},
   "source": [
    "# `Install the important Libraries`"
   ]
  },
  {
   "cell_type": "code",
   "execution_count": null,
   "id": "0480a5a8",
   "metadata": {},
   "outputs": [],
   "source": [
    "import cv2\n",
    "import mediapipe as mp\n"
   ]
  },
  {
   "cell_type": "code",
   "execution_count": 8,
   "id": "102f72c9",
   "metadata": {},
   "outputs": [],
   "source": [
    "mpFace = mp.solutions.face_detection\n",
    "mpDraw = mp.solutions.drawing_utils\n"
   ]
  },
  {
   "cell_type": "code",
   "execution_count": 10,
   "id": "9f30e7ac",
   "metadata": {},
   "outputs": [
    {
     "data": {
      "text/plain": [
       "<mediapipe.python.solutions.face_detection.FaceDetection at 0x25457f6c700>"
      ]
     },
     "execution_count": 10,
     "metadata": {},
     "output_type": "execute_result"
    }
   ],
   "source": [
    "Faces =mpFace.FaceDetection()\n",
    "Faces"
   ]
  },
  {
   "cell_type": "code",
   "execution_count": 12,
   "id": "1120f9a3",
   "metadata": {},
   "outputs": [],
   "source": [
    "img = cv2.imread(\"my_image.jpeg\")\n",
    "RGB_Image = cv2.cvtColor(img,cv2.COLOR_BGR2RGB)\n"
   ]
  },
  {
   "cell_type": "code",
   "execution_count": 13,
   "id": "6de07ed3",
   "metadata": {},
   "outputs": [
    {
     "data": {
      "text/plain": [
       "mediapipe.python.solution_base.SolutionOutputs"
      ]
     },
     "execution_count": 13,
     "metadata": {},
     "output_type": "execute_result"
    }
   ],
   "source": [
    "results =Faces.process(RGB_Image)\n",
    "results"
   ]
  },
  {
   "cell_type": "code",
   "execution_count": 14,
   "id": "765c0fe4",
   "metadata": {},
   "outputs": [],
   "source": [
    "if results.detections:\n",
    "    for face_detected in results.detections:\n",
    "        mpDraw.draw_detection(img,face_detected)\n",
    "        \n",
    "    \n",
    "        \n",
    "        \n",
    "    \n",
    "        \n",
    "        \n",
    "        \n",
    "        \n",
    "        "
   ]
  },
  {
   "cell_type": "code",
   "execution_count": 18,
   "id": "2a979335",
   "metadata": {},
   "outputs": [
    {
     "data": {
      "text/plain": [
       "True"
      ]
     },
     "execution_count": 18,
     "metadata": {},
     "output_type": "execute_result"
    }
   ],
   "source": [
    "cv2.imwrite(\"face_detected.jpg\",img)"
   ]
  },
  {
   "cell_type": "code",
   "execution_count": 15,
   "id": "e780a39e",
   "metadata": {},
   "outputs": [],
   "source": [
    "cv2.imshow(\"Image\",img)\n",
    "cv2.waitKey(0)\n",
    "cv2.destroyAllWindows()"
   ]
  },
  {
   "cell_type": "code",
   "execution_count": null,
   "id": "7eea82c7",
   "metadata": {},
   "outputs": [],
   "source": []
  }
 ],
 "metadata": {
  "kernelspec": {
   "display_name": "Python 3 (ipykernel)",
   "language": "python",
   "name": "python3"
  },
  "language_info": {
   "codemirror_mode": {
    "name": "ipython",
    "version": 3
   },
   "file_extension": ".py",
   "mimetype": "text/x-python",
   "name": "python",
   "nbconvert_exporter": "python",
   "pygments_lexer": "ipython3",
   "version": "3.8.13"
  }
 },
 "nbformat": 4,
 "nbformat_minor": 5
}
