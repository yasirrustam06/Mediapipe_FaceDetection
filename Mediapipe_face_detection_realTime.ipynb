{
 "cells": [
  {
   "cell_type": "markdown",
   "id": "166d7b73",
   "metadata": {},
   "source": [
    "# Mediapipe Face Detection"
   ]
  },
  {
   "cell_type": "markdown",
   "id": "76437ad0",
   "metadata": {},
   "source": [
    "# `Install the important Libraries`"
   ]
  },
  {
   "cell_type": "code",
   "execution_count": null,
   "id": "c832e552",
   "metadata": {},
   "outputs": [],
   "source": [
    "!pip install mediapipe\n",
    "!pip install opencv-python"
   ]
  },
  {
   "cell_type": "code",
   "execution_count": null,
   "id": "f3352922",
   "metadata": {},
   "outputs": [],
   "source": []
  },
  {
   "cell_type": "code",
   "execution_count": null,
   "id": "80695d04",
   "metadata": {},
   "outputs": [],
   "source": [
    "# Importing the libraries\n",
    "import cv2\n",
    "import mediapipe as mp\n",
    "import time"
   ]
  },
  {
   "cell_type": "code",
   "execution_count": 2,
   "id": "98314a9b",
   "metadata": {},
   "outputs": [],
   "source": [
    "\n",
    "mpFace = mp.solutions.face_detection\n",
    "mpDraw = mp.solutions.drawing_utils\n",
    "faces = mpFace.FaceDetection()\n",
    "\n"
   ]
  },
  {
   "cell_type": "code",
   "execution_count": null,
   "id": "09bcf8fd",
   "metadata": {},
   "outputs": [],
   "source": [
    "cTime=0\n",
    "pTime=0\n",
    "cap  = cv2.VideoCapture(0)\n",
    "\n",
    "while True:\n",
    "    ret,img = cap.read()\n",
    "    rgb_image = cv2.cvtColor(img,cv2.COLOR_BGR2RGB)\n",
    "    results  = faces.process(rgb_image)\n",
    "    if results.detections:\n",
    "        for faceDetection in results.detections:\n",
    "            mpDraw.draw_detection(img,faceDetection)\n",
    "            \n",
    "            \n",
    "            \n",
    "    cTime =time.time()\n",
    "\n",
    "    fps=1/(cTime-pTime)\n",
    "    pTime=cTime\n",
    "#     cv2.putText(img,str(int(fps)),(20,70),cv2.FONT_HERSHEY_SIMPLEX,3,(255,0,0),-1)\n",
    "    \n",
    "    cv2.imshow(\"image\",img)\n",
    "    cv2.waitKey(1)\n",
    "    \n",
    "    \n",
    "            \n",
    "            \n",
    "            \n",
    "            \n",
    "cv2.destroyAllWindows()\n",
    "            "
   ]
  },
  {
   "cell_type": "code",
   "execution_count": null,
   "id": "99ed9cda",
   "metadata": {},
   "outputs": [],
   "source": []
  }
 ],
 "metadata": {
  "kernelspec": {
   "display_name": "Python 3 (ipykernel)",
   "language": "python",
   "name": "python3"
  },
  "language_info": {
   "codemirror_mode": {
    "name": "ipython",
    "version": 3
   },
   "file_extension": ".py",
   "mimetype": "text/x-python",
   "name": "python",
   "nbconvert_exporter": "python",
   "pygments_lexer": "ipython3",
   "version": "3.8.13"
  }
 },
 "nbformat": 4,
 "nbformat_minor": 5
}
